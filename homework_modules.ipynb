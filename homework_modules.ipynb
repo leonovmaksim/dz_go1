{
 "cells": [
  {
   "cell_type": "code",
   "execution_count": 1,
   "metadata": {
    "id": "3MeKai5Xj6eX"
   },
   "outputs": [],
   "source": [
    "import numpy as np"
   ]
  },
  {
   "cell_type": "markdown",
   "metadata": {
    "id": "wwlFrG-Tj6eY"
   },
   "source": [
    "**Module** is an abstract class which defines fundamental methods necessary for a training a neural network. You do not need to change anything here, just read the comments."
   ]
  },
  {
   "cell_type": "code",
   "execution_count": 3,
   "metadata": {
    "id": "W8BLmtZ3j6eZ"
   },
   "outputs": [],
   "source": [
    "class Module(object):\n",
    "    \"\"\"\n",
    "    Basically, you can think of a module as of a something (black box)\n",
    "    which can process `input` data and produce `ouput` data.\n",
    "    This is like applying a function which is called `forward`:\n",
    "\n",
    "        output = module.forward(input)\n",
    "\n",
    "    The module should be able to perform a backward pass: to differentiate the `forward` function.\n",
    "    More, it should be able to differentiate it if is a part of chain (chain rule).\n",
    "    The latter implies there is a gradient from previous step of a chain rule.\n",
    "\n",
    "        gradInput = module.backward(input, gradOutput)\n",
    "    \"\"\"\n",
    "    def __init__ (self):\n",
    "        self.output = None\n",
    "        self.gradInput = None\n",
    "        self.training = True\n",
    "\n",
    "    def forward(self, input):\n",
    "        \"\"\"\n",
    "        Takes an input object, and computes the corresponding output of the module.\n",
    "        \"\"\"\n",
    "        return self.updateOutput(input)\n",
    "\n",
    "    def backward(self,input, gradOutput):\n",
    "        \"\"\"\n",
    "        Performs a backpropagation step through the module, with respect to the given input.\n",
    "\n",
    "        This includes\n",
    "         - computing a gradient w.r.t. `input` (is needed for further backprop),\n",
    "         - computing a gradient w.r.t. parameters (to update parameters while optimizing).\n",
    "        \"\"\"\n",
    "        self.updateGradInput(input, gradOutput)\n",
    "        self.accGradParameters(input, gradOutput)\n",
    "        return self.gradInput\n",
    "\n",
    "\n",
    "    def updateOutput(self, input):\n",
    "        \"\"\"\n",
    "        Computes the output using the current parameter set of the class and input.\n",
    "        This function returns the result which is stored in the `output` field.\n",
    "\n",
    "        Make sure to both store the data in `output` field and return it.\n",
    "        \"\"\"\n",
    "\n",
    "        # The easiest case:\n",
    "\n",
    "        # self.output = input\n",
    "        # return self.output\n",
    "\n",
    "        pass\n",
    "\n",
    "    def updateGradInput(self, input, gradOutput):\n",
    "        \"\"\"\n",
    "        Computing the gradient of the module with respect to its own input.\n",
    "        This is returned in `gradInput`. Also, the `gradInput` state variable is updated accordingly.\n",
    "\n",
    "        The shape of `gradInput` is always the same as the shape of `input`.\n",
    "\n",
    "        Make sure to both store the gradients in `gradInput` field and return it.\n",
    "        \"\"\"\n",
    "\n",
    "        # The easiest case:\n",
    "\n",
    "        # self.gradInput = gradOutput\n",
    "        # return self.gradInput\n",
    "\n",
    "        pass\n",
    "\n",
    "    def accGradParameters(self, input, gradOutput):\n",
    "        \"\"\"\n",
    "        Computing the gradient of the module with respect to its own parameters.\n",
    "        No need to override if module has no parameters (e.g. ReLU).\n",
    "        \"\"\"\n",
    "        pass\n",
    "\n",
    "    def zeroGradParameters(self):\n",
    "        \"\"\"\n",
    "        Zeroes `gradParams` variable if the module has params.\n",
    "        \"\"\"\n",
    "        pass\n",
    "\n",
    "    def getParameters(self):\n",
    "        \"\"\"\n",
    "        Returns a list with its parameters.\n",
    "        If the module does not have parameters return empty list.\n",
    "        \"\"\"\n",
    "        return []\n",
    "\n",
    "    def getGradParameters(self):\n",
    "        \"\"\"\n",
    "        Returns a list with gradients with respect to its parameters.\n",
    "        If the module does not have parameters return empty list.\n",
    "        \"\"\"\n",
    "        return []\n",
    "\n",
    "    def train(self):\n",
    "        \"\"\"\n",
    "        Sets training mode for the module.\n",
    "        Training and testing behaviour differs for Dropout, BatchNorm.\n",
    "        \"\"\"\n",
    "        self.training = True\n",
    "\n",
    "    def evaluate(self):\n",
    "        \"\"\"\n",
    "        Sets evaluation mode for the module.\n",
    "        Training and testing behaviour differs for Dropout, BatchNorm.\n",
    "        \"\"\"\n",
    "        self.training = False\n",
    "\n",
    "    def __repr__(self):\n",
    "        \"\"\"\n",
    "        Pretty printing. Should be overrided in every module if you want\n",
    "        to have readable description.\n",
    "        \"\"\"\n",
    "        return \"Module\""
   ]
  },
  {
   "cell_type": "markdown",
   "metadata": {
    "id": "mKRkIjT8j6eZ"
   },
   "source": [
    "# Sequential container"
   ]
  },
  {
   "cell_type": "markdown",
   "metadata": {
    "id": "Cb98PPpJj6ea"
   },
   "source": [
    "**Define** a forward and backward pass procedures."
   ]
  },
  {
   "cell_type": "code",
   "execution_count": 5,
   "metadata": {
    "id": "7y2lav4dj6ea"
   },
   "outputs": [],
   "source": [
    "class Sequential(Module):\n",
    "    \"\"\"\n",
    "    This class implements a container, which processes `input` data sequentially.\n",
    "    \"\"\"\n",
    "    def __init__(self):\n",
    "        super(Sequential, self).__init__()\n",
    "        self.modules = []\n",
    "\n",
    "    def add(self, module):\n",
    "        \"\"\"\n",
    "        Adds a module to the container.\n",
    "        \"\"\"\n",
    "        self.modules.append(module)\n",
    "\n",
    "    def updateOutput(self, input):\n",
    "        \"\"\"\n",
    "        Forward pass: Processes input through each module sequentially.\n",
    "        \"\"\"\n",
    "        output = input\n",
    "        for module in self.modules:\n",
    "            output = module.updateOutput(output)\n",
    "        self.output = output\n",
    "        return self.output\n",
    "\n",
    "    def backward(self, input, gradOutput):\n",
    "        \"\"\"\n",
    "        Backward pass: Propagates the gradient through each module sequentially in reverse order.\n",
    "        \"\"\"\n",
    "        gradInput = gradOutput\n",
    "        # Iterate backward through the modules\n",
    "        for module in reversed(self.modules):\n",
    "            gradInput = module.updateGradInput(input, gradInput)\n",
    "            input = module.output  # This is the input the module saw during the forward pass\n",
    "        self.gradInput = gradInput\n",
    "        return self.gradInput\n",
    "\n",
    "    def zeroGradParameters(self):\n",
    "        \"\"\"\n",
    "        Resets gradients to zero for each module.\n",
    "        \"\"\"\n",
    "        for module in self.modules:\n",
    "            module.zeroGradParameters()\n",
    "\n",
    "    def getParameters(self):\n",
    "        \"\"\"\n",
    "        Returns all parameters of the modules in the sequential container.\n",
    "        \"\"\"\n",
    "        parameters = []\n",
    "        for module in self.modules:\n",
    "            parameters += module.getParameters()\n",
    "        return parameters\n",
    "\n",
    "    def getGradParameters(self):\n",
    "        \"\"\"\n",
    "        Returns all gradients w.r.t parameters in the sequential container.\n",
    "        \"\"\"\n",
    "        grad_parameters = []\n",
    "        for module in self.modules:\n",
    "            grad_parameters += module.getGradParameters()\n",
    "        return grad_parameters\n",
    "\n",
    "    def __repr__(self):\n",
    "        \"\"\"\n",
    "        Provides a string representation of the Sequential container.\n",
    "        \"\"\"\n",
    "        string = \"\".join([str(x) + '\\n' for x in self.modules])\n",
    "        return string\n",
    "\n",
    "    def __getitem__(self, index):\n",
    "        \"\"\"\n",
    "        Allows indexing of modules in the Sequential container.\n",
    "        \"\"\"\n",
    "        return self.modules[index]\n",
    "\n",
    "    def train(self):\n",
    "        \"\"\"\n",
    "        Set each module to training mode.\n",
    "        \"\"\"\n",
    "        self.training = True\n",
    "        for module in self.modules:\n",
    "            module.train()\n",
    "\n",
    "    def evaluate(self):\n",
    "        \"\"\"\n",
    "        Set each module to evaluation mode.\n",
    "        \"\"\"\n",
    "        self.training = False\n",
    "        for module in self.modules:\n",
    "            module.evaluate()\n"
   ]
  },
  {
   "cell_type": "markdown",
   "metadata": {
    "id": "zfXdYfO4j6ea"
   },
   "source": [
    "# Layers"
   ]
  },
  {
   "cell_type": "markdown",
   "metadata": {
    "id": "ZuwvBkuNj6ea"
   },
   "source": [
    "## 1 (0.2). Linear transform layer\n",
    "Also known as dense layer, fully-connected layer, FC-layer, InnerProductLayer (in caffe), affine transform\n",
    "- input:   **`batch_size x n_feats1`**\n",
    "- output: **`batch_size x n_feats2`**"
   ]
  },
  {
   "cell_type": "code",
   "execution_count": null,
   "metadata": {
    "id": "D0uoyqkpj6ea"
   },
   "outputs": [],
   "source": [
    "import numpy as np\n",
    "\n",
    "class Linear(Module):\n",
    "    \"\"\"\n",
    "    A module which applies a linear transformation\n",
    "    A common name is fully-connected layer, InnerProductLayer in caffe.\n",
    "\n",
    "    The module should work with 2D input of shape (n_samples, n_feature).\n",
    "    \"\"\"\n",
    "    def __init__(self, n_in, n_out):\n",
    "        super(Linear, self).__init__()\n",
    "\n",
    "        stdv = 1. / np.sqrt(n_in)\n",
    "        self.W = np.random.uniform(-stdv, stdv, size=(n_out, n_in))\n",
    "        self.b = np.random.uniform(-stdv, stdv, size=n_out)\n",
    "\n",
    "        self.gradW = np.zeros_like(self.W)\n",
    "        self.gradb = np.zeros_like(self.b)\n",
    "\n",
    "    def updateOutput(self, input):\n",
    "        self.output = np.dot(input, self.W.T) + self.b\n",
    "        return self.output\n",
    "\n",
    "    def updateGradInput(self, input, gradOutput):\n",
    "        self.gradInput = np.dot(gradOutput, self.W)  \n",
    "        return self.gradInput\n",
    "\n",
    "    def accGradParameters(self, input, gradOutput):\n",
    "        self.gradW += np.dot(gradOutput.T, input)  \n",
    "        self.gradb += np.sum(gradOutput, axis=0)  \n",
    "\n",
    "    def zeroGradParameters(self):\n",
    "        self.gradW.fill(0)\n",
    "        self.gradb.fill(0)\n",
    "\n",
    "    def getParameters(self):\n",
    "        return [self.W, self.b]\n",
    "\n",
    "    def getGradParameters(self):\n",
    "        return [self.gradW, self.gradb]\n",
    "\n",
    "    def __repr__(self):\n",
    "        s = self.W.shape\n",
    "        q = 'Linear %d -> %d' % (s[1], s[0])\n",
    "        return q\n"
   ]
  },
  {
   "cell_type": "markdown",
   "metadata": {
    "id": "tNOnHXZJj6eb"
   },
   "source": [
    "## 2. (0.2) SoftMax\n",
    "- input:   **`batch_size x n_feats`**\n",
    "- output: **`batch_size x n_feats`**\n",
    "\n",
    "$\\text{softmax}(x)_i = \\frac{\\exp x_i} {\\sum_j \\exp x_j}$\n",
    "\n",
    "Recall that $\\text{softmax}(x) == \\text{softmax}(x - \\text{const})$. It makes possible to avoid computing exp() from large argument."
   ]
  },
  {
   "cell_type": "code",
   "execution_count": null,
   "metadata": {
    "collapsed": true,
    "id": "VIValI0hj6eb",
    "jupyter": {
     "outputs_hidden": true
    }
   },
   "outputs": [],
   "source": [
    "class SoftMax(Module):\n",
    "    def __init__(self):\n",
    "         super(SoftMax, self).__init__()\n",
    "\n",
    "    def updateOutput(self, input):\n",
    "        self.output = np.subtract(input, input.max(axis=1, keepdims=True))\n",
    "        self.output = np.exp(self.output)\n",
    "        self.output = np.divide(self.output, self.output.sum(axis=1, keepdims=True))\n",
    "        return self.output\n",
    "\n",
    "    def updateGradInput(self, input, gradOutput):\n",
    "        s = self.output\n",
    "        grad = np.zeros_like(input)\n",
    "        \n",
    "        for i in range(input.shape[0]):\n",
    "            s_i = s[i].reshape(-1, 1)\n",
    "            jacobian = np.diagflat(s_i) - np.dot(s_i, s_i.T)\n",
    "            grad[i] = np.dot(gradOutput[i], jacobian)\n",
    "        \n",
    "        self.gradInput = grad\n",
    "        return self.gradInput\n",
    "\n",
    "    def __repr__(self):\n",
    "        return \"SoftMax\""
   ]
  },
  {
   "cell_type": "markdown",
   "metadata": {
    "id": "Cy3DJjynj6eb"
   },
   "source": [
    "## 3. (0.2) LogSoftMax\n",
    "- input:   **`batch_size x n_feats`**\n",
    "- output: **`batch_size x n_feats`**\n",
    "\n",
    "$\\text{logsoftmax}(x)_i = \\log\\text{softmax}(x)_i = x_i - \\log {\\sum_j \\exp x_j}$\n",
    "\n",
    "The main goal of this layer is to be used in computation of log-likelihood loss."
   ]
  },
  {
   "cell_type": "code",
   "execution_count": null,
   "metadata": {
    "collapsed": true,
    "id": "Xo7DRdAJj6eb",
    "jupyter": {
     "outputs_hidden": true
    }
   },
   "outputs": [],
   "source": [
    "class LogSoftMax(Module):\n",
    "    def __init__(self):\n",
    "         super(LogSoftMax, self).__init__()\n",
    "\n",
    "    def updateOutput(self, input):\n",
    "        self.output = np.subtract(input, input.max(axis=1, keepdims=True))\n",
    "\n",
    "        # Your code goes here. ################################################\n",
    "        exp_input = np.exp(shifted_input)\n",
    "        log_sum_exp = np.log(np.sum(exp_input, axis=1, keepdims=True))\n",
    "        self.output = np.subtract(shifted_input, log_sum_exp)\n",
    "        \n",
    "        return self.output\n",
    "\n",
    "    def updateGradInput(self, input, gradOutput):\n",
    "        # Your code goes here. ################################################\n",
    "        exp_output = np.exp(self.output)\n",
    "        self.gradInput = gradOutput * (1 - exp_output)\n",
    "        return self.gradInput\n",
    "\n",
    "    def __repr__(self):\n",
    "        return \"LogSoftMax\""
   ]
  },
  {
   "cell_type": "code",
   "execution_count": null,
   "metadata": {},
   "outputs": [],
   "source": [
    "class LogSoftMax(Module):\n",
    "    def __init__(self):\n",
    "        super(LogSoftMax, self).__init__()\n",
    "        self.exp_normalized = None \n",
    "\n",
    "    def updateOutput(self, input):\n",
    "        shifted_input = input - input.max(axis=1, keepdims=True)\n",
    "        \n",
    "        exp_shifted = np.exp(shifted_input)\n",
    "        sum_exp = np.sum(exp_shifted, axis=1, keepdims=True)\n",
    "        self.output = shifted_input - np.log(sum_exp)\n",
    "        \n",
    "        self.exp_normalized = exp_shifted / sum_exp\n",
    "        return self.output\n",
    "\n",
    "    def updateGradInput(self, input, gradOutput):\n",
    "        self.gradInput = gradOutput - self.exp_normalized * np.sum(gradOutput, axis=1, keepdims=True)\n",
    "        return self.gradInput\n",
    "\n",
    "    def __repr__(self):\n",
    "        return \"LogSoftMax\""
   ]
  },
  {
   "cell_type": "markdown",
   "metadata": {
    "id": "QP5QdmmPj6eb"
   },
   "source": [
    "## 4. (0.3) Batch normalization\n",
    "One of the most significant recent ideas that impacted NNs a lot is [**Batch normalization**](http://arxiv.org/abs/1502.03167). The idea is simple, yet effective: the features should be whitened ($mean = 0$, $std = 1$) all the way through NN. This improves the convergence for deep models letting it train them for days but not weeks. **You are** to implement the first part of the layer: features normalization. The second part (`ChannelwiseScaling` layer) is implemented below.\n",
    "\n",
    "- input:   **`batch_size x n_feats`**\n",
    "- output: **`batch_size x n_feats`**\n",
    "\n",
    "The layer should work as follows. While training (`self.training == True`) it transforms input as $$y = \\frac{x - \\mu}  {\\sqrt{\\sigma + \\epsilon}}$$\n",
    "where $\\mu$ and $\\sigma$ - mean and variance of feature values in **batch** and $\\epsilon$ is just a small number for numericall stability. Also during training, layer should maintain exponential moving average values for mean and variance:\n",
    "```\n",
    "    self.moving_mean = self.moving_mean * alpha + batch_mean * (1 - alpha)\n",
    "    self.moving_variance = self.moving_variance * alpha + batch_variance * (1 - alpha)\n",
    "```\n",
    "During testing (`self.training == False`) the layer normalizes input using moving_mean and moving_variance.\n",
    "\n",
    "Note that decomposition of batch normalization on normalization itself and channelwise scaling here is just a common **implementation** choice. In general \"batch normalization\" always assumes normalization + scaling."
   ]
  },
  {
   "cell_type": "code",
   "execution_count": 9,
   "metadata": {},
   "outputs": [],
   "source": [
    "class BatchNormalization(Module):\n",
    "    EPS = 1e-3 \n",
    "\n",
    "    def __init__(self, alpha=0.9):\n",
    "        super(BatchNormalization, self).__init__()\n",
    "        self.alpha = alpha  \n",
    "        self.gamma = None  \n",
    "        self.beta = None  \n",
    "\n",
    "        self.moving_mean = None\n",
    "        self.moving_variance = None\n",
    "\n",
    "    def updateOutput(self, input):\n",
    "        batch_size, n_in = input.shape\n",
    "\n",
    "        if self.gamma is None:\n",
    "            self.gamma = np.ones((n_in,))\n",
    "            self.beta = np.zeros((n_in,))\n",
    "            self.moving_mean = np.zeros((n_in,))\n",
    "            self.moving_variance = np.ones((n_in,))\n",
    "\n",
    "        if self.training:\n",
    "            batch_mean = np.mean(input, axis=0)\n",
    "            batch_variance = np.var(input, axis=0)\n",
    "\n",
    "            normalized_input = (input - batch_mean) / np.sqrt(batch_variance + self.EPS)\n",
    "            self.output = self.gamma * normalized_input + self.beta\n",
    "\n",
    "            self.moving_mean = self.alpha * self.moving_mean + (1 - self.alpha) * batch_mean\n",
    "            self.moving_variance = self.alpha * self.moving_variance + (1 - self.alpha) * batch_variance\n",
    "        else:\n",
    "            normalized_input = (input - self.moving_mean) / np.sqrt(self.moving_variance + self.EPS)\n",
    "            self.output = self.gamma * normalized_input + self.beta\n",
    "\n",
    "        return self.output\n",
    "\n",
    "    def updateGradInput(self, input, gradOutput):\n",
    "        batch_size, n_in = input.shape\n",
    "\n",
    "        grad_gamma = np.sum(gradOutput * (self.output - self.beta), axis=0)\n",
    "        grad_beta = np.sum(gradOutput, axis=0)\n",
    "\n",
    "        grad_normalized_input = gradOutput * self.gamma\n",
    "\n",
    "\n",
    "        grad_variance = np.sum(grad_normalized_input * (input - np.mean(input, axis=0)) * -0.5 * np.power(np.var(input, axis=0) + self.EPS, -1.5), axis=0)\n",
    "        grad_mean = np.sum(grad_normalized_input * -1 / np.sqrt(np.var(input, axis=0) + self.EPS), axis=0) + grad_variance * np.sum(-2 * (input - np.mean(input, axis=0)), axis=0) / batch_size\n",
    "\n",
    "        gradInput = grad_normalized_input / np.sqrt(np.var(input, axis=0) + self.EPS) + grad_variance * 2 * (input - np.mean(input, axis=0)) / batch_size + grad_mean / batch_size\n",
    "\n",
    "        self.gradInput = gradInput\n",
    "\n",
    "        return self.gradInput\n",
    "\n",
    "    def __repr__(self):\n",
    "        return f\"BatchNormalization(alpha={self.alpha})\"\n"
   ]
  },
  {
   "cell_type": "code",
   "execution_count": 11,
   "metadata": {
    "id": "8XUS3Lt-j6eb"
   },
   "outputs": [],
   "source": [
    "class ChannelwiseScaling(Module):\n",
    "    \"\"\"\n",
    "       Implements linear transform of input y = \\gamma * x + \\beta\n",
    "       where \\gamma, \\beta - learnable vectors of length x.shape[-1]\n",
    "    \"\"\"\n",
    "    def __init__(self, n_out):\n",
    "        super(ChannelwiseScaling, self).__init__()\n",
    "\n",
    "        stdv = 1./np.sqrt(n_out)\n",
    "        self.gamma = np.random.uniform(-stdv, stdv, size=n_out)\n",
    "        self.beta = np.random.uniform(-stdv, stdv, size=n_out)\n",
    "\n",
    "        self.gradGamma = np.zeros_like(self.gamma)\n",
    "        self.gradBeta = np.zeros_like(self.beta)\n",
    "\n",
    "    def updateOutput(self, input):\n",
    "        self.output = input * self.gamma + self.beta\n",
    "        return self.output\n",
    "\n",
    "    def updateGradInput(self, input, gradOutput):\n",
    "        self.gradInput = gradOutput * self.gamma\n",
    "        return self.gradInput\n",
    "\n",
    "    def accGradParameters(self, input, gradOutput):\n",
    "        self.gradBeta = np.sum(gradOutput, axis=0)\n",
    "        self.gradGamma = np.sum(gradOutput*input, axis=0)\n",
    "\n",
    "    def zeroGradParameters(self):\n",
    "        self.gradGamma.fill(0)\n",
    "        self.gradBeta.fill(0)\n",
    "\n",
    "    def getParameters(self):\n",
    "        return [self.gamma, self.beta]\n",
    "\n",
    "    def getGradParameters(self):\n",
    "        return [self.gradGamma, self.gradBeta]\n",
    "\n",
    "    def __repr__(self):\n",
    "        return \"ChannelwiseScaling\""
   ]
  },
  {
   "cell_type": "markdown",
   "metadata": {
    "id": "vA5zjM3jj6eb"
   },
   "source": [
    "Practical notes. If BatchNormalization is placed after a linear transformation layer (including dense layer, convolutions, channelwise scaling) that implements function like `y = weight * x + bias`, than bias adding become useless and could be omitted since its effect will be discarded while batch mean subtraction. If BatchNormalization (followed by `ChannelwiseScaling`) is placed before a layer that propagates scale (including ReLU, LeakyReLU) followed by any linear transformation layer than parameter `gamma` in `ChannelwiseScaling` could be freezed since it could be absorbed into the linear transformation layer."
   ]
  },
  {
   "cell_type": "markdown",
   "metadata": {
    "id": "Gackeo1cj6eb"
   },
   "source": [
    "## 5. (0.3) Dropout\n",
    "Implement [**dropout**](https://www.cs.toronto.edu/~hinton/absps/JMLRdropout.pdf). The idea and implementation is really simple: just multimply the input by $Bernoulli(p)$ mask. Here $p$ is probability of an element to be zeroed.\n",
    "\n",
    "This has proven to be an effective technique for regularization and preventing the co-adaptation of neurons.\n",
    "\n",
    "While training (`self.training == True`) it should sample a mask on each iteration (for every batch), zero out elements and multiply elements by $1 / (1 - p)$. The latter is needed for keeping mean values of features close to mean values which will be in test mode. When testing this module should implement identity transform i.e. `self.output = input`.\n",
    "\n",
    "- input:   **`batch_size x n_feats`**\n",
    "- output: **`batch_size x n_feats`**"
   ]
  },
  {
   "cell_type": "code",
   "execution_count": null,
   "metadata": {},
   "outputs": [],
   "source": [
    "import numpy as np\n",
    "\n",
    "class Dropout(Module):\n",
    "    def __init__(self, p=0.5):\n",
    "        super(Dropout, self).__init__()\n",
    "        self.p = p\n",
    "        self.mask = None  \n",
    "\n",
    "    def updateOutput(self, input):\n",
    "        \"\"\"\n",
    "        Forward pass: Randomly zeroes some of the input elements during training.\n",
    "        During evaluation, just returns the input.\n",
    "        \"\"\"\n",
    "        if self.training:\n",
    "            self.mask = np.random.rand(*input.shape) > self.p  \n",
    "            self.output = input * self.mask / (1 - self.p)\n",
    "        else:\n",
    "            self.output = input\n",
    "        return self.output\n",
    "\n",
    "    def updateGradInput(self, input, gradOutput):\n",
    "        \"\"\"\n",
    "        Backward pass: Propagate gradients only through the active units.\n",
    "        \"\"\"\n",
    "        if self.training:\n",
    "            self.gradInput = gradOutput * self.mask / (1 - self.p)\n",
    "        else:\n",
    "            self.gradInput = gradOutput\n",
    "        return self.gradInput\n",
    "\n",
    "    def __repr__(self):\n",
    "        return \"Dropout\"\n"
   ]
  },
  {
   "cell_type": "markdown",
   "metadata": {
    "id": "-WHGIqJFlhz2"
   },
   "source": [
    "#6. (2.0) Conv2d\n",
    "Implement [**Conv2d**](https://pytorch.org/docs/stable/generated/torch.nn.Conv2d.html). Use only this list of parameters: (in_channels, out_channels, kernel_size, stride, padding, bias, padding_mode) and fix dilation=1 and groups=1."
   ]
  },
  {
   "cell_type": "code",
   "execution_count": 17,
   "metadata": {},
   "outputs": [],
   "source": [
    "class Conv2d:\n",
    "    def __init__(self, in_channels, out_channels, kernel_size, stride=1, padding=0, bias=True, padding_mode='zeros'):\n",
    "        self.in_channels = in_channels\n",
    "        self.out_channels = out_channels\n",
    "        self.kernel_size = kernel_size\n",
    "        self.stride = stride\n",
    "        self.padding = padding\n",
    "        self.bias = bias\n",
    "        self.padding_mode = padding_mode\n",
    "\n",
    "        # Инициализация весов\n",
    "        self.weights = np.random.randn(out_channels, in_channels, kernel_size, kernel_size)\n",
    "        if self.bias:\n",
    "            self.bias_weights = np.random.randn(out_channels)\n",
    "\n",
    "    def apply_padding(self, input):\n",
    "        if self.padding_mode == 'zeros':\n",
    "            return np.pad(input, ((0, 0), (0, 0), (self.padding, self.padding), (self.padding, self.padding)), mode='constant', constant_values=0)\n",
    "        elif self.padding_mode == 'replicate':\n",
    "            return np.pad(input, ((0, 0), (0, 0), (self.padding, self.padding), (self.padding, self.padding)), mode='edge')\n",
    "        elif self.padding_mode == 'reflect':\n",
    "            return np.pad(input, ((0, 0), (0, 0), (self.padding, self.padding), (self.padding, self.padding)), mode='reflect')\n",
    "        elif self.padding_mode == 'same':\n",
    "            height = input.shape[2]\n",
    "            width = input.shape[3]\n",
    "            padding_height = (height * (self.stride[0] - 1) - 1 + self.kernel_size - height) // 2\n",
    "            padding_width = (width * (self.stride[1] - 1) - 1 + self.kernel_size - width) // 2\n",
    "            return np.pad(input, ((0, 0), (0, 0), (padding_height, padding_height), (padding_width, padding_width)), mode='constant', constant_values=0)\n",
    "        else:\n",
    "            raise ValueError(f\"Unknown padding mode: {self.padding_mode}\")\n",
    "\n",
    "    def updateOutput(self, input):\n",
    "        input_padded = self.apply_padding(input)\n",
    "        \n",
    "        batch_size, in_channels, in_height, in_width = input_padded.shape\n",
    "        kernel_height, kernel_width = self.kernel_size, self.kernel_size\n",
    "        stride_height, stride_width = self.stride if isinstance(self.stride, tuple) else (self.stride, self.stride)\n",
    "        \n",
    "        out_height = (in_height - kernel_height) // stride_height + 1\n",
    "        out_width = (in_width - kernel_width) // stride_width + 1\n",
    "        \n",
    "        self.output = np.zeros((batch_size, self.out_channels, out_height, out_width))\n",
    "        \n",
    "        for b in range(batch_size):\n",
    "            for oc in range(self.out_channels):\n",
    "                for ic in range(self.in_channels):\n",
    "                    for i in range(out_height):\n",
    "                        for j in range(out_width):\n",
    "                            start_i = i * stride_height\n",
    "                            start_j = j * stride_width\n",
    "                            end_i = start_i + kernel_height\n",
    "                            end_j = start_j + kernel_width\n",
    "                            \n",
    "                            region = input_padded[b, ic, start_i:end_i, start_j:end_j]\n",
    "                            self.output[b, oc, i, j] += np.sum(region * self.weights[oc, ic, :, :])\n",
    "                \n",
    "                if self.bias:\n",
    "                    self.output[b, oc, :, :] += self.bias_weights[oc]\n",
    "        \n",
    "        return self.output\n",
    "\n",
    "    def updateGradInput(self, input, gradOutput):\n",
    "        batch_size, in_channels, in_height, in_width = input.shape\n",
    "        gradInput = np.zeros_like(input)\n",
    "        \n",
    "        for b in range(batch_size):\n",
    "            for oc in range(self.out_channels):\n",
    "                for ic in range(self.in_channels):\n",
    "                    for i in range(gradOutput.shape[2]):\n",
    "                        for j in range(gradOutput.shape[3]):\n",
    "                            start_i = i * self.stride[0]\n",
    "                            start_j = j * self.stride[1]\n",
    "                            end_i = start_i + self.kernel_size\n",
    "                            end_j = start_j + self.kernel_size\n",
    "\n",
    "                            gradInput[b, ic, start_i:end_i, start_j:end_j] += gradOutput[b, oc, i, j] * self.weights[oc, ic, :, :]\n",
    "        \n",
    "        return gradInput\n",
    "\n",
    "    def __repr__(self):\n",
    "        return f\"Conv2d(in_channels={self.in_channels}, out_channels={self.out_channels}, kernel_size={self.kernel_size}, stride={self.stride}, padding={self.padding}, bias={self.bias}, padding_mode={self.padding_mode})\"\n"
   ]
  },
  {
   "cell_type": "markdown",
   "metadata": {
    "id": "updUVZE9qixP"
   },
   "source": [
    "#7. (0.5) Implement [**MaxPool2d**](https://pytorch.org/docs/stable/generated/torch.nn.MaxPool2d.html) and [**AvgPool2d**](https://pytorch.org/docs/stable/generated/torch.nn.AvgPool2d.html). Use only parameters like kernel_size, stride, padding (negative infinity for maxpool and zero for avgpool) and other parameters fixed as in framework."
   ]
  },
  {
   "cell_type": "code",
   "execution_count": 21,
   "metadata": {},
   "outputs": [],
   "source": [
    "import numpy as np\n",
    "\n",
    "class MaxPool2d(Module):\n",
    "    def __init__(self, kernel_size, stride, padding):\n",
    "        super(MaxPool2d, self).__init__()\n",
    "        self.kernel_size = kernel_size\n",
    "        self.stride = stride\n",
    "        self.padding = padding\n",
    "\n",
    "    def updateOutput(self, input):\n",
    "        if self.padding > 0:\n",
    "            input = np.pad(input, ((0, 0), (self.padding, self.padding), (self.padding, self.padding)), mode='constant', constant_values=-np.inf)\n",
    "\n",
    "        batch_size, channels, height, width = input.shape\n",
    "\n",
    "        out_height = (height - self.kernel_size) // self.stride + 1\n",
    "        out_width = (width - self.kernel_size) // self.stride + 1\n",
    "\n",
    "        self.output = np.zeros((batch_size, channels, out_height, out_width))\n",
    "\n",
    "        for i in range(out_height):\n",
    "            for j in range(out_width):\n",
    "                h_start = i * self.stride\n",
    "                h_end = h_start + self.kernel_size\n",
    "                w_start = j * self.stride\n",
    "                w_end = w_start + self.kernel_size\n",
    "\n",
    "                self.output[:, :, i, j] = np.max(input[:, :, h_start:h_end, w_start:w_end], axis=(2, 3))\n",
    "\n",
    "        return self.output\n",
    "\n",
    "    def updateGradInput(self, input, gradOutput):\n",
    "        batch_size, channels, height, width = input.shape\n",
    "        gradInput = np.zeros_like(input)\n",
    "\n",
    "        for i in range(gradOutput.shape[2]): \n",
    "            for j in range(gradOutput.shape[3]):  \n",
    "                h_start = i * self.stride\n",
    "                h_end = h_start + self.kernel_size\n",
    "                w_start = j * self.stride\n",
    "                w_end = w_start + self.kernel_size\n",
    "\n",
    "                for b in range(batch_size):\n",
    "                    for c in range(channels):\n",
    "                        window = input[b, c, h_start:h_end, w_start:w_end]\n",
    "                        max_val = np.max(window)\n",
    "                        max_mask = (window == max_val)\n",
    "\n",
    "                        gradInput[b, c, h_start:h_end, w_start:w_end] += max_mask * gradOutput[b, c, i, j]\n",
    "\n",
    "        return gradInput\n",
    "\n",
    "    def __repr__(self):\n",
    "        return f\"MaxPool2d(kernel_size={self.kernel_size}, stride={self.stride}, padding={self.padding})\"\n",
    "\n",
    "\n",
    "class AvgPool2d(Module):\n",
    "    def __init__(self, kernel_size, stride=None, padding=0):\n",
    "        super(AvgPool2d, self).__init__()\n",
    "\n",
    "        self.kernel_size = (kernel_size, kernel_size) if isinstance(kernel_size, int) else kernel_size\n",
    "        self.stride = stride if stride is not None else kernel_size\n",
    "        self.stride = (self.stride, self.stride) if isinstance(self.stride, int) else self.stride\n",
    "        self.padding = (padding, padding) if isinstance(padding, int) else padding\n",
    "\n",
    "        self.actual_kernel_areas = None\n",
    "\n",
    "    def updateOutput(self, input):\n",
    "        batch_size, channels, height, width = input.shape\n",
    "        k_h, k_w = self.kernel_size\n",
    "        s_h, s_w = self.stride\n",
    "        p_h, p_w = self.padding\n",
    "        \n",
    "        if p_h > 0 or p_w > 0:\n",
    "            input_padded = np.pad(input, \n",
    "                                ((0,0), (0,0),\n",
    "                                (p_h, p_h), (p_w, p_w)),\n",
    "                                mode='constant', constant_values=0)\n",
    "        else:\n",
    "            input_padded = input\n",
    "        \n",
    "        out_height = (height + 2*p_h - k_h) // s_h + 1\n",
    "        out_width = (width + 2*p_w - k_w) // s_w + 1\n",
    "        \n",
    "        self.output = np.zeros((batch_size, channels, out_height, out_width))\n",
    "        self.actual_kernel_areas = np.ones((out_height, out_width)) * (k_h * k_w)\n",
    "        \n",
    "        for i in range(out_height):\n",
    "            for j in range(out_width):\n",
    "                h_start = i * s_h\n",
    "                w_start = j * s_w\n",
    "                h_end = h_start + k_h\n",
    "                w_end = w_start + k_w\n",
    "                region = input_padded[:, :, h_start:h_end, w_start:w_end]\n",
    "\n",
    "                actual_h = region.shape[2]\n",
    "                actual_w = region.shape[3]\n",
    "                if actual_h != k_h or actual_w != k_w:\n",
    "                    self.actual_kernel_areas[i,j] = actual_h * actual_w\n",
    "                \n",
    "                self.output[:, :, i, j] = np.sum(region, axis=(2,3)) / self.actual_kernel_areas[i,j]\n",
    "        \n",
    "        return self.output\n",
    "\n",
    "    def updateGradInput(self, input, gradOutput):\n",
    "        batch_size, channels, height, width = input.shape\n",
    "        k_h, k_w = self.kernel_size\n",
    "        s_h, s_w = self.stride\n",
    "        p_h, p_w = self.padding\n",
    "        \n",
    "        gradInput = np.zeros_like(input)\n",
    "        if p_h > 0 or p_w > 0:\n",
    "            gradInput_padded = np.pad(gradInput, \n",
    "                                   ((0,0), (0,0),\n",
    "                                   (p_h, p_h), (p_w, p_w)),\n",
    "                                   mode='constant', constant_values=0)\n",
    "        else:\n",
    "            gradInput_padded = gradInput\n",
    "        \n",
    "        for i in range(gradOutput.shape[2]):\n",
    "            for j in range(gradOutput.shape[3]):\n",
    "                h_start = i * s_h\n",
    "                w_start = j * s_w\n",
    "                h_end = h_start + k_h\n",
    "                w_end = w_start + k_w\n",
    "                \n",
    "                norm = 1.0 / self.actual_kernel_areas[i,j]\n",
    "                \n",
    "                gradInput_padded[:, :, h_start:h_end, w_start:w_end] += (\n",
    "                    gradOutput[:, :, i, j][:,:,None,None] * norm\n",
    "                )\n",
    "        \n",
    "        if p_h > 0 or p_w > 0:\n",
    "            gradInput = gradInput_padded[:, :, p_h:-p_h, p_w:-p_w]\n",
    "        \n",
    "        return gradInput\n",
    "\n",
    "    def __repr__(self):\n",
    "        return f\"AvgPool2d(kernel_size={self.kernel_size}, stride={self.stride}, padding={self.padding})\""
   ]
  },
  {
   "cell_type": "markdown",
   "metadata": {
    "id": "KTN5R3CwrukV"
   },
   "source": [
    "#8. (0.3) Implement **GlobalMaxPool2d** and **GlobalAvgPool2d**. They do not have testing and parameters are up to you but they must aggregate information within channels. Write test functions for these layers on your own."
   ]
  },
  {
   "cell_type": "markdown",
   "metadata": {
    "id": "cYeBQDBhtViy"
   },
   "source": [
    "#9. (0.2) Implement [**Flatten**](https://pytorch.org/docs/stable/generated/torch.flatten.html)"
   ]
  },
  {
   "cell_type": "code",
   "execution_count": 23,
   "metadata": {
    "id": "SimPEMOFqhTQ"
   },
   "outputs": [],
   "source": [
    "class Flatten(Module):\n",
    "    def __init__(self, start_dim=0, end_dim=-1):\n",
    "        super(Flatten, self).__init__()\n",
    "\n",
    "        self.start_dim = start_dim\n",
    "        self.end_dim = end_dim\n",
    "\n",
    "        self.original_shape = None\n",
    "\n",
    "    def updateOutput(self, input):\n",
    "        # Your code goes here. ################################################\n",
    "        self.original_shape = input.shape\n",
    "\n",
    "        if self.end_dim < 0:\n",
    "            self.end_dim = len(input.shape) + self.end_dim\n",
    "\n",
    "        new_shape = list(input.shape[:self.start_dim])\n",
    "        flattened_dim = np.prod(input.shape[self.start_dim:self.end_dim+1])\n",
    "        new_shape.append(flattened_dim)\n",
    "        new_shape.extend(input.shape[self.end_dim+1:])\n",
    "        \n",
    "        self.output = input.reshape(*new_shape)\n",
    "        return self.output\n",
    "\n",
    "\n",
    "    def updateGradInput(self, input, gradOutput):\n",
    "        # Your code goes here. ################################################\n",
    "        self.gradInput = gradOutput.reshape(self.original_shape)\n",
    "        return self.gradInput\n",
    "\n",
    "    def __repr__(self):\n",
    "        return \"Flatten\""
   ]
  },
  {
   "cell_type": "markdown",
   "metadata": {
    "id": "o36vPHSSj6eb"
   },
   "source": [
    "# Activation functions"
   ]
  },
  {
   "cell_type": "markdown",
   "metadata": {
    "id": "l_pryRQIj6ec"
   },
   "source": [
    "Here's the complete example for the **Rectified Linear Unit** non-linearity (aka **ReLU**):"
   ]
  },
  {
   "cell_type": "code",
   "execution_count": 25,
   "metadata": {
    "id": "sgm8bXjKj6ec"
   },
   "outputs": [],
   "source": [
    "class ReLU(Module):\n",
    "    def __init__(self):\n",
    "         super(ReLU, self).__init__()\n",
    "\n",
    "    def updateOutput(self, input):\n",
    "        self.output = np.maximum(input, 0)\n",
    "        return self.output\n",
    "\n",
    "    def updateGradInput(self, input, gradOutput):\n",
    "        self.gradInput = np.multiply(gradOutput , input > 0)\n",
    "        return self.gradInput\n",
    "\n",
    "    def __repr__(self):\n",
    "        return \"ReLU\""
   ]
  },
  {
   "cell_type": "markdown",
   "metadata": {
    "id": "yB0UHGagj6ec"
   },
   "source": [
    "## 10. (0.1) Leaky ReLU\n",
    "Implement [**Leaky Rectified Linear Unit**](http://en.wikipedia.org/wiki%2FRectifier_%28neural_networks%29%23Leaky_ReLUs). Expriment with slope."
   ]
  },
  {
   "cell_type": "code",
   "execution_count": 27,
   "metadata": {
    "id": "agwfkwO0j6ec"
   },
   "outputs": [],
   "source": [
    "class LeakyReLU(Module):\n",
    "    def __init__(self, slope = 0.03):\n",
    "        super(LeakyReLU, self).__init__()\n",
    "\n",
    "        self.slope = slope\n",
    "        self.mask = None\n",
    "\n",
    "    def updateOutput(self, input):\n",
    "        # Your code goes here. ################################################\n",
    "        self.mask = (input > 0)  \n",
    "        self.output = np.where(self.mask, input, input * self.slope)\n",
    "        return self.output\n",
    "\n",
    "    def updateGradInput(self, input, gradOutput):\n",
    "        # Your code goes here. ################################################\n",
    "        self.gradInput = np.where(self.mask, gradOutput, gradOutput * self.slope)\n",
    "        return self.gradInput\n",
    "\n",
    "    def __repr__(self):\n",
    "        return \"LeakyReLU\""
   ]
  },
  {
   "cell_type": "markdown",
   "metadata": {
    "id": "t-STyecvj6ec"
   },
   "source": [
    "## 11. (0.1) ELU\n",
    "Implement [**Exponential Linear Units**](http://arxiv.org/abs/1511.07289) activations."
   ]
  },
  {
   "cell_type": "code",
   "execution_count": 29,
   "metadata": {
    "id": "jJSzEu1mj6ec"
   },
   "outputs": [],
   "source": [
    "class ELU(Module):\n",
    "    def __init__(self, alpha = 1.0):\n",
    "        super(ELU, self).__init__()\n",
    "\n",
    "        self.alpha = alpha\n",
    "        self.activated = None\n",
    "\n",
    "    def updateOutput(self, input):\n",
    "        # Your code goes here. ################################################\n",
    "        self.activated = (input <= 0) \n",
    "        self.output = np.where(input > 0, \n",
    "                             input, \n",
    "                             self.alpha * (np.exp(input) - 1))\n",
    "        return self.output\n",
    "\n",
    "    def updateGradInput(self, input, gradOutput):\n",
    "        # Your code goes here. ################################################\n",
    "        self.gradInput = np.where(input > 0,\n",
    "                                gradOutput,\n",
    "                                gradOutput * (self.output + self.alpha))\n",
    "        return self.gradInput\n",
    "\n",
    "\n",
    "    def __repr__(self):\n",
    "        return \"ELU\""
   ]
  },
  {
   "cell_type": "markdown",
   "metadata": {
    "id": "Gn3C7KTqj6ec"
   },
   "source": [
    "## 12. (0.1) SoftPlus\n",
    "Implement [**SoftPlus**](https://en.wikipedia.org/wiki%2FRectifier_%28neural_networks%29) activations. Look, how they look a lot like ReLU."
   ]
  },
  {
   "cell_type": "code",
   "execution_count": 31,
   "metadata": {
    "id": "xcDPMssrj6ec"
   },
   "outputs": [],
   "source": [
    "import numpy as np\n",
    "\n",
    "class SoftPlus(Module):\n",
    "    def __init__(self):\n",
    "        super(SoftPlus, self).__init__()\n",
    "\n",
    "    def updateOutput(self, input):\n",
    "        self.output = np.log(1 + np.exp(input))\n",
    "        return self.output\n",
    "\n",
    "    def updateGradInput(self, input, gradOutput):\n",
    "        gradInput = gradOutput * (1 / (1 + np.exp(-input)))  \n",
    "        self.gradInput = gradInput\n",
    "        return self.gradInput\n",
    "\n",
    "    def __repr__(self):\n",
    "        return \"SoftPlus\"\n"
   ]
  },
  {
   "cell_type": "markdown",
   "metadata": {
    "id": "kw3PeZjOuo0e"
   },
   "source": [
    "#13. (0.2) Gelu\n",
    "Implement [**Gelu**](https://pytorch.org/docs/stable/generated/torch.nn.GELU.html) activations."
   ]
  },
  {
   "cell_type": "code",
   "execution_count": 39,
   "metadata": {
    "id": "SdieE0Dtuo8j"
   },
   "outputs": [],
   "source": [
    "class Gelu(Module):\n",
    "    def __init__(self):\n",
    "        super(Gelu, self).__init__()\n",
    "\n",
    "    def updateOutput(self, input):\n",
    "        self.output = 0.5 * input * (1 + np.tanh(np.sqrt(2 / np.pi) * (input + 0.044715 * input ** 3)))\n",
    "        return self.output\n",
    "\n",
    "    def updateGradInput(self, input, gradOutput):\n",
    "        sqrt_2_pi = np.sqrt(2 / np.pi)\n",
    "        tanh_term = np.tanh(sqrt_2_pi * (input + 0.044715 * input ** 3))\n",
    "        grad = 0.5 * (1 + tanh_term) + 0.5 * input * (1 - tanh_term ** 2) * sqrt_2_pi * (1 + 0.13429 * input ** 2)\n",
    "        \n",
    "        self.gradInput = grad * gradOutput\n",
    "        return self.gradInput\n",
    "\n",
    "    def __repr__(self):\n",
    "        return \"Gelu\"\n"
   ]
  },
  {
   "cell_type": "markdown",
   "metadata": {
    "id": "55p7UvPAj6ec"
   },
   "source": [
    "# Criterions"
   ]
  },
  {
   "cell_type": "markdown",
   "metadata": {
    "id": "5NFaxZaqj6ec"
   },
   "source": [
    "Criterions are used to score the models answers."
   ]
  },
  {
   "cell_type": "code",
   "execution_count": null,
   "metadata": {
    "id": "XGu45A8qj6ec"
   },
   "outputs": [],
   "source": [
    "class Criterion(object):\n",
    "    def __init__ (self):\n",
    "        self.output = None\n",
    "        self.gradInput = None\n",
    "\n",
    "    def forward(self, input, target):\n",
    "        \"\"\"\n",
    "            Given an input and a target, compute the loss function\n",
    "            associated to the criterion and return the result.\n",
    "\n",
    "            For consistency this function should not be overrided,\n",
    "            all the code goes in `updateOutput`.\n",
    "        \"\"\"\n",
    "        return self.updateOutput(input, target)\n",
    "\n",
    "    def backward(self, input, target):\n",
    "        \"\"\"\n",
    "            Given an input and a target, compute the gradients of the loss function\n",
    "            associated to the criterion and return the result.\n",
    "\n",
    "            For consistency this function should not be overrided,\n",
    "            all the code goes in `updateGradInput`.\n",
    "        \"\"\"\n",
    "        return self.updateGradInput(input, target)\n",
    "\n",
    "    def updateOutput(self, input, target):\n",
    "        \"\"\"\n",
    "        Function to override.\n",
    "        \"\"\"\n",
    "        return self.output\n",
    "\n",
    "    def updateGradInput(self, input, target):\n",
    "        \"\"\"\n",
    "        Function to override.\n",
    "        \"\"\"\n",
    "        return self.gradInput\n",
    "\n",
    "    def __repr__(self):\n",
    "        \"\"\"\n",
    "        Pretty printing. Should be overrided in every module if you want\n",
    "        to have readable description.\n",
    "        \"\"\"\n",
    "        return \"Criterion\""
   ]
  },
  {
   "cell_type": "markdown",
   "metadata": {
    "id": "WuU26xkpj6ec"
   },
   "source": [
    "The **MSECriterion**, which is basic L2 norm usually used for regression, is implemented here for you.\n",
    "- input:   **`batch_size x n_feats`**\n",
    "- target: **`batch_size x n_feats`**\n",
    "- output: **scalar**"
   ]
  },
  {
   "cell_type": "code",
   "execution_count": null,
   "metadata": {
    "id": "-i3VNuHhj6ec"
   },
   "outputs": [],
   "source": [
    "class MSECriterion(Criterion):\n",
    "    def __init__(self):\n",
    "        super(MSECriterion, self).__init__()\n",
    "\n",
    "    def updateOutput(self, input, target):\n",
    "        self.output = np.sum(np.power(input - target,2)) / input.shape[0]\n",
    "        return self.output\n",
    "\n",
    "    def updateGradInput(self, input, target):\n",
    "        self.gradInput  = (input - target) * 2 / input.shape[0]\n",
    "        return self.gradInput\n",
    "\n",
    "    def __repr__(self):\n",
    "        return \"MSECriterion\""
   ]
  },
  {
   "cell_type": "markdown",
   "metadata": {
    "id": "x8LKLWNVj6ec"
   },
   "source": [
    "## 14. (0.2) Negative LogLikelihood criterion (numerically unstable)\n",
    "You task is to implement the **ClassNLLCriterion**. It should implement [multiclass log loss](http://scikit-learn.org/stable/modules/model_evaluation.html#log-loss). Nevertheless there is a sum over `y` (target) in that formula,\n",
    "remember that targets are one-hot encoded. This fact simplifies the computations a lot. Note, that criterions are the only places, where you divide by batch size. Also there is a small hack with adding small number to probabilities to avoid computing log(0).\n",
    "- input:   **`batch_size x n_feats`** - probabilities\n",
    "- target: **`batch_size x n_feats`** - one-hot representation of ground truth\n",
    "- output: **scalar**\n",
    "\n"
   ]
  },
  {
   "cell_type": "code",
   "execution_count": null,
   "metadata": {
    "id": "die7KvW6j6ec"
   },
   "outputs": [],
   "source": [
    "class ClassNLLCriterionUnstable(Criterion):\n",
    "    EPS = 1e-15\n",
    "    def __init__(self):\n",
    "        a = super(ClassNLLCriterionUnstable, self)\n",
    "        super(ClassNLLCriterionUnstable, self).__init__()\n",
    "        self.input_clamp = None\n",
    "\n",
    "    def updateOutput(self, input, target):\n",
    "        input_clamp = np.clip(input, self.EPS, 1 - self.EPS)\n",
    "        self.input_clamp = input_clamp\n",
    "\n",
    "        # Your code goes here. ################################################\n",
    "        self.output = -np.mean(np.log(input_clamp[np.arange(len(target)), target]))\n",
    "        return self.output\n",
    "\n",
    "    def updateGradInput(self, input, target):\n",
    "        input_clamp = self.input_clamp\n",
    "        self.gradInput = np.zeros_like(input)\n",
    "        batch_indices = np.arange(len(target))\n",
    "        self.gradInput[batch_indices, target] = -1.0 / input_clamp[batch_indices, target]\n",
    "\n",
    "        # Your code goes here. ################################################\n",
    "        self.gradInput /= len(target)\n",
    "        \n",
    "        return self.gradInput\n",
    "\n",
    "    def __repr__(self):\n",
    "        return \"ClassNLLCriterionUnstable\""
   ]
  },
  {
   "cell_type": "code",
   "execution_count": null,
   "metadata": {},
   "outputs": [],
   "source": [
    "class ClassNLLCriterionUnstable(Criterion):\n",
    "    EPS = 1e-15 \n",
    "\n",
    "    def __init__(self):\n",
    "        super(ClassNLLCriterionUnstable, self).__init__()\n",
    "        self.input_clamp = None\n",
    "\n",
    "    def updateOutput(self, input, target):\n",
    "        input_clamp = np.clip(input, self.EPS, 1 - self.EPS)\n",
    "        self.input_clamp = input_clamp\n",
    "\n",
    "        target_int = target.astype(np.int64)\n",
    "\n",
    "        self.output = -np.mean(np.log(input_clamp[np.arange(len(target_int)), target_int.argmax(axis=1)]))\n",
    "\n",
    "        return self.output\n",
    "\n",
    "    def updateGradInput(self, input, target):\n",
    "        input_clamp = self.input_clamp\n",
    "        self.gradInput = np.zeros_like(input)\n",
    "\n",
    "        target_int = target.astype(np.int64)\n",
    "\n",
    "        batch_indices = np.arange(len(target_int))\n",
    "        self.gradInput[batch_indices, target_int.argmax(axis=1)] = -1.0 / input_clamp[batch_indices, target_int.argmax(axis=1)]\n",
    "\n",
    "        self.gradInput /= len(target_int)\n",
    "\n",
    "        return self.gradInput\n",
    "\n",
    "    def __repr__(self):\n",
    "        return \"ClassNLLCriterionUnstable\""
   ]
  },
  {
   "cell_type": "markdown",
   "metadata": {
    "id": "uHr_JbU5j6ec"
   },
   "source": [
    "## 15. (0.3) Negative LogLikelihood criterion (numerically stable)\n",
    "- input:   **`batch_size x n_feats`** - log probabilities\n",
    "- target: **`batch_size x n_feats`** - one-hot representation of ground truth\n",
    "- output: **scalar**\n",
    "\n",
    "Task is similar to the previous one, but now the criterion input is the output of log-softmax layer. This decomposition allows us to avoid problems with computation of forward and backward of log()."
   ]
  },
  {
   "cell_type": "code",
   "execution_count": null,
   "metadata": {
    "collapsed": true,
    "id": "v7N8bVP9j6ec",
    "jupyter": {
     "outputs_hidden": true
    }
   },
   "outputs": [],
   "source": [
    "class ClassNLLCriterion(Criterion):\n",
    "    EPS = 1e-10\n",
    "    def __init__(self):\n",
    "        a = super(ClassNLLCriterion, self)\n",
    "        super(ClassNLLCriterion, self).__init__()\n",
    "        self.input_clamp = None\n",
    "\n",
    "    def updateOutput(self, input, target):\n",
    "        # Your code goes here. ################################################\n",
    "        self.input_clamp = np.clip(input, self.EPS, 1 - self.EPS)\n",
    "        log_probs = np.log(self.input_clamp)\n",
    "        self.output = -np.sum(input * target) / input.shape[0]\n",
    "        return self.output\n",
    "\n",
    "    def updateGradInput(self, input, target):\n",
    "        # Your code goes here. ################################################\n",
    "        self.gradInput = -target / (self.input_clamp * input.shape[0])\n",
    "        return self.gradInput\n",
    "\n",
    "    def __repr__(self):\n",
    "        return \"ClassNLLCriterion\""
   ]
  },
  {
   "cell_type": "code",
   "execution_count": null,
   "metadata": {},
   "outputs": [],
   "source": [
    "class ClassNLLCriterion(Criterion):\n",
    "    def __init__(self):\n",
    "        # Инициализация, вызываем конструктор родительского класса\n",
    "        super(ClassNLLCriterion, self).__init__()\n",
    "\n",
    "    def updateOutput(self, input, target):\n",
    "        target_labels = np.argmax(target, axis=1)\n",
    "\n",
    "        log_probs = np.sum(input * target, axis=1)  \n",
    "        self.output = -np.mean(log_probs)  \n",
    "\n",
    "        return self.output\n",
    "\n",
    "    def updateGradInput(self, input, target):\n",
    "        target_labels = np.argmax(target, axis=1)\n",
    "\n",
    "        grad_input = np.zeros_like(input)\n",
    "        grad_input[np.arange(input.shape[0]), target_labels] = -1\n",
    "        grad_input /= input.shape[0]  # Среднее по выборке\n",
    "\n",
    "        self.gradInput = grad_input\n",
    "        return self.gradInput\n",
    "\n",
    "    def __repr__(self):\n",
    "        return \"ClassNLLCriterion\""
   ]
  },
  {
   "cell_type": "code",
   "execution_count": null,
   "metadata": {
    "collapsed": true,
    "id": "E-ZnhKxaj6ed",
    "jupyter": {
     "outputs_hidden": true
    }
   },
   "outputs": [],
   "source": []
  },
  {
   "cell_type": "markdown",
   "metadata": {
    "id": "TC2Bf1PP2Ios"
   },
   "source": [
    "1-я часть задания: реализация слоев, лосей и функций активации - 5 баллов. \\\\\n",
    "2-я часть задания: реализация моделей на своих классах. Что должно быть:\n",
    "  1. Выберите оптимизатор и реализуйте его, чтоб он работал с вами классами. - 1 балл.\n",
    "  2. Модель для задачи мультирегрессии на выбраных вами данных. Использовать FCNN, dropout, batchnorm, MSE. Пробуйте различные фукнции активации. Для первой модели попробуйте большую, среднюю и маленькую модель. - 1 балл.\n",
    "  3. Модель для задачи мультиклассификации на MNIST. Использовать свёртки, макспулы, флэттэны, софтмаксы - 1 балла.\n",
    "  4. Автоэнкодер для выбранных вами данных. Должен быть на свёртках и полносвязных слоях, дропаутах, батчнормах и тд. - 2 балла. \\\\\n",
    "\n",
    "Дополнительно в оценке каждой модели будет учитываться:\n",
    "1. Наличие правильно выбранной метрики и лосс функции.\n",
    "2. Отрисовка графиков лосей и метрик на трейне-валидации. Проверка качества модели на тесте.\n",
    "3. Наличие шедулера для lr.\n",
    "4. Наличие вормапа.\n",
    "5. Наличие механизма ранней остановки и сохранение лучшей модели.\n",
    "6. Свитч лося (метрики) и оптимайзера."
   ]
  },
  {
   "cell_type": "markdown",
   "metadata": {
    "id": "Aq0X5QV55ZH4"
   },
   "source": [
    "### Оптимизатор"
   ]
  },
  {
   "cell_type": "code",
   "execution_count": null,
   "metadata": {},
   "outputs": [],
   "source": [
    "class SGD:\n",
    "    def __init__(self, parameters, lr=0.01, momentum=0.9):\n",
    "        self.parameters = parameters  \n",
    "        self.lr = lr\n",
    "        self.momentum = momentum\n",
    "        self.velocity = [np.zeros_like(param) for param in self.parameters] \n",
    "\n",
    "    def step(self):\n",
    "        for i, param in enumerate(self.parameters):\n",
    "            grad = param.grad  # Градиенты\n",
    "            self.velocity[i] = self.momentum * self.velocity[i] + grad  \n",
    "            param -= self.lr * self.velocity[i] \n"
   ]
  },
  {
   "cell_type": "markdown",
   "metadata": {},
   "source": [
    "### 2. Модель для задачи мультирегрессии"
   ]
  },
  {
   "cell_type": "code",
   "execution_count": null,
   "metadata": {},
   "outputs": [],
   "source": [
    "class SimpleModel(Module):\n",
    "    def __init__(self):\n",
    "        super(SimpleModel, self).__init__()\n",
    "\n",
    "        self.fc1 = Linear(10, 64)\n",
    "        self.relu1 = ReLU()\n",
    "        self.batchnorm1 = BatchNorm(64)  \n",
    "        self.dropout1 = Dropout(0.5)     \n",
    "\n",
    "        self.fc2 = Linear(64, 32)\n",
    "        self.relu2 = ReLU()\n",
    "        self.batchnorm2 = BatchNorm(32)\n",
    "        self.dropout2 = Dropout(0.5)\n",
    "\n",
    "        self.fc3 = Linear(32, 3) \n",
    "\n",
    "    def updateOutput(self, input):\n",
    "        x = self.fc1.updateOutput(input)\n",
    "        x = self.relu1.updateOutput(x)\n",
    "        x = self.batchnorm1.updateOutput(x)\n",
    "        x = self.dropout1.updateOutput(x)\n",
    "\n",
    "        x = self.fc2.updateOutput(x)\n",
    "        x = self.relu2.updateOutput(x)\n",
    "        x = self.batchnorm2.updateOutput(x)\n",
    "        x = self.dropout2.updateOutput(x)\n",
    "\n",
    "        x = self.fc3.updateOutput(x)\n",
    "        return x\n",
    "\n",
    "    def updateGradInput(self, input, gradOutput):\n",
    "        grad = self.fc3.updateGradInput(input, gradOutput)\n",
    "        grad = self.dropout2.updateGradInput(input, grad)\n",
    "        grad = self.batchnorm2.updateGradInput(input, grad)\n",
    "        grad = self.relu2.updateGradInput(input, grad)\n",
    "        grad = self.fc2.updateGradInput(input, grad)\n",
    "        grad = self.dropout1.updateGradInput(input, grad)\n",
    "        grad = self.batchnorm1.updateGradInput(input, grad)\n",
    "        grad = self.relu1.updateGradInput(input, grad)\n",
    "        grad = self.fc1.updateGradInput(input, grad)\n",
    "        return grad\n",
    "\n",
    "    def accGradParameters(self, input, gradOutput):\n",
    "        self.fc3.accGradParameters(input, gradOutput)\n",
    "        self.fc2.accGradParameters(input, gradOutput)\n",
    "        self.fc1.accGradParameters(input, gradOutput)\n",
    "\n",
    "    def zeroGradParameters(self):\n",
    "        self.fc3.zeroGradParameters()\n",
    "        self.fc2.zeroGradParameters()\n",
    "        self.fc1.zeroGradParameters()\n",
    "\n",
    "    def computeMSELoss(self, output, target):\n",
    "        return np.mean((output - target) ** 2)\n",
    "    \n",
    "    def updateLoss(self, input, target):\n",
    "        output = self.updateOutput(input)\n",
    "        return self.computeMSELoss(output, target)\n",
    "\n",
    "    def __repr__(self):\n",
    "        return f\"SimpleModel(input_dim=10, hidden_dims=[64, 32], output_dim=3)\"\n"
   ]
  }
 ],
 "metadata": {
  "colab": {
   "provenance": []
  },
  "kernelspec": {
   "display_name": "Python 3 (ipykernel)",
   "language": "python",
   "name": "python3"
  },
  "language_info": {
   "codemirror_mode": {
    "name": "ipython",
    "version": 3
   },
   "file_extension": ".py",
   "mimetype": "text/x-python",
   "name": "python",
   "nbconvert_exporter": "python",
   "pygments_lexer": "ipython3",
   "version": "3.11.7"
  }
 },
 "nbformat": 4,
 "nbformat_minor": 4
}
